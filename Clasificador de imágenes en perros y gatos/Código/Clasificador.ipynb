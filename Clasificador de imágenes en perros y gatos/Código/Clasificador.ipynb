{
 "cells": [
  {
   "attachments": {},
   "cell_type": "markdown",
   "metadata": {},
   "source": [
    "Aclaración importante: Las conclusiones expuestas en este documento no son las mismas que se han escrito en la memoria, estas de aquí son una especie de \"apuntes rápidos\" sobre temas de los que se han hablado en mayor profundidad y corrección en la memoria."
   ]
  },
  {
   "cell_type": "code",
   "execution_count": 1,
   "metadata": {},
   "outputs": [],
   "source": [
    "import numpy as np\n",
    "import cv2\n",
    "import copy\n",
    "import matplotlib.pyplot as plt\n",
    "import pandas as pd\n",
    "import lector_imagenes as li\n",
    "import extrac1 as ex1\n",
    "import extrac2 as ex2\n",
    "import vectoresAFichero as vf\n",
    "\n",
    "from sklearn import metrics\n",
    "from sklearn.model_selection import GridSearchCV\n",
    "from sklearn.model_selection import ShuffleSplit\n",
    "from sklearn.metrics import confusion_matrix, ConfusionMatrixDisplay\n",
    "from sklearn.metrics import classification_report"
   ]
  },
  {
   "attachments": {},
   "cell_type": "markdown",
   "metadata": {},
   "source": [
    "# Paso 1: Lectura de los datos\n",
    "Para realizar el tratamiento de las imágenes, es necesario leerlas desde los directorios correspondientes. Se ha implementado para este fin el script \"lector_imagenes.py\", que se encarga de, dada una dirección, un valor sobre blanco o negro (según como queramos leer las imágenes) y un tamaño (todas las imágenes deberán tener el mismo tamaño, de lo contrario no seremos capaces de entrenar ningún modelo) extraer la matriz de dicha imagen y guardarla en un array.\n",
    "\n",
    "Por otro lado, la función lee de todas las carpetas que encuentre dentro de la dirección indicada. Se espera encontrar dos carpetas (train y test) con dos subcarpetas a su vez (cat y dog). Obtendrá por tanto la lectura tanto de los datos de train como de test. Por último, mencionar que también calcula el vector de salida Y, donde indica a qué clase pertenece cada ejemplo. Se ha decidido de forma arbitraria que la clase gato sea 0 y perro 1."
   ]
  },
  {
   "cell_type": "code",
   "execution_count": 2,
   "metadata": {},
   "outputs": [
    {
     "name": "stdout",
     "output_type": "stream",
     "text": [
      "(200, 380, 380)\n",
      "(200, 1)\n",
      "(40, 380, 380)\n",
      "(40, 1)\n"
     ]
    }
   ],
   "source": [
    "#PASO 1: LECTURA DE LAS IMÁGENES\n",
    "\n",
    "X_train,y_train,X_test,y_test = li.crea_dataset(path='cat_dog_100',BN=0) #Ver valores por defecto de la función (script lector_imagenes.py)\n",
    "print(X_train.shape)\n",
    "print(y_train.shape)\n",
    "print(X_test.shape)\n",
    "print(y_test.shape)"
   ]
  },
  {
   "attachments": {},
   "cell_type": "markdown",
   "metadata": {},
   "source": [
    "# Paso 2: Calcular vectores propios\n",
    "Una vez tenemos las imágenes almacenadas como matrices dentro de nuestra estructura, debemos calcular sus vectores propios para poder operar con ellas. \n",
    "En este caso, tenemos dos scripts distintos, \"extrac1.py\" y \"extrac2.py\", correspondientes a cada una de las posibles implementaciones propuestas en la práctica. Estas dos, a su vez, cuentan con diversas opciones de implementación atendiendo a las posibles modificaciones disponibles.\n",
    "\n",
    "Extrac1:\n",
    "- Versión estándar, con el calculo de binarios.\n",
    "- Versión estándar, con tratamiento a color de las imágenes.\n",
    "- Versión uniforme, con el tratamiento de aquellos binarios no uniformes.\n",
    "\n",
    "Extrac2:\n",
    "- Versión estándar, con ruleta de gradientes de nueve bins.\n",
    "- Versión estándar, con tratamiento a color de las imágenes.\n",
    "- Versión normalizada, usando los vecinos.\n",
    "\n",
    "Aparte de estos dos módelos de extracción, podemos aplicar PCA a los distintos vectores característicos.\n",
    "\n",
    "Nota: El proceso de cálculo de vectores propios toma un tiempo."
   ]
  },
  {
   "cell_type": "code",
   "execution_count": 7,
   "metadata": {},
   "outputs": [
    {
     "name": "stdout",
     "output_type": "stream",
     "text": [
      "Terminada lectura Test\n"
     ]
    }
   ],
   "source": [
    "#NO ES NECESARIO EJECUTAR ESTA CELDA (cálculo de vectores, se he hecho previamente y se ha guardado en un fichero)\n",
    "#Según el método a utilizar y el tamaño de los conjuntos, esta celda puede ser considerablemente lenta\n",
    "\n",
    "vec_train = []\n",
    "vec_test = []\n",
    "\n",
    "for i in range(len(X_train)):\n",
    "    vec_train.append(ex1.crear_vector_caracteristicas_BW_Uniforme(X_train[i],16))\n",
    "vec_train = np.asarray(vec_train)\n",
    "print('Terminada lectura Train')\n",
    "\n",
    "for i in range(len(X_test)):\n",
    "    vec_test.append(ex1.crear_vector_caracteristicas_BW_Uniforme(X_test[i],16))\n",
    "vec_test = np.asarray(vec_test)\n",
    "print('Terminada lectura Test')\n",
    "\n",
    "#Trato los valores nan por si acaso\n",
    "vec_train[np.isnan(vec_train)] = 0\n",
    "vec_test[np.isnan(vec_test)] = 0"
   ]
  },
  {
   "attachments": {},
   "cell_type": "markdown",
   "metadata": {},
   "source": [
    "Ya que el cálculo de vectores propios lleva un tiempo, hemos decicido leerlos una única vez y guardar los vectores calculados en ficheros. Para este fin se implementa el script \"vectoresAFichero.py\"."
   ]
  },
  {
   "cell_type": "code",
   "execution_count": 5,
   "metadata": {},
   "outputs": [],
   "source": [
    "#Escribo en un ficheros los vectores leídos, esto, con el fin de ahorrar tiempo en futuras ejecuciones\n",
    "#Hemos escrito en los ficheros solo los datos leidos de la carpeta de 100.\n",
    "#NO EJECUTAR ESTA CELDA\n",
    "vf.escribir('extrac1','color',vec_train,vec_test)"
   ]
  },
  {
   "attachments": {},
   "cell_type": "markdown",
   "metadata": {},
   "source": [
    "Una vez guardados los vectores en los ficheros, los iremos leyendo para entrenar los modelos y obtener los distintos resultados."
   ]
  },
  {
   "cell_type": "code",
   "execution_count": 4,
   "metadata": {},
   "outputs": [
    {
     "data": {
      "text/plain": [
       "'\\nVersión normalizada del segundo modelo de extracción\\n'"
      ]
     },
     "execution_count": 4,
     "metadata": {},
     "output_type": "execute_result"
    }
   ],
   "source": [
    "#Descoméntese el código según se quieran leer uno u otros datos.\n",
    "\n",
    "'''\n",
    "Versión estándar del primer modelo de extracción\n",
    "'''\n",
    "#vec_train = np.loadtxt('EX1_STD_100_vec_train.txt')\n",
    "#vec_test = np.loadtxt('EX1_STD_100_vec_test.txt')\n",
    "\n",
    "\n",
    "'''\n",
    "Versión uniforme del primer modelo de extracción\n",
    "'''\n",
    "vec_train = np.loadtxt('EX1_UNIFORM_100_vec_train.txt') \n",
    "vec_test = np.loadtxt('EX1_UNIFORM_100_vec_test.txt')\n",
    "\n",
    "'''\n",
    "Versión estándar del segundo modelo de extracción\n",
    "'''\n",
    "#vec_train = np.loadtxt('EX2_STD_100_vec_train.txt')\n",
    "#vec_test = np.loadtxt('EX2_STD_100_vec_test.txt')\n",
    "\n",
    "'''\n",
    "Versión normalizada del segundo modelo de extracción\n",
    "'''\n",
    "#vec_train = np.loadtxt('EX2_NORMALIZADA_100_vec_train.txt')\n",
    "#vec_test = np.loadtxt('EX2_NORMALIZADA_100_vec_test.txt')\n"
   ]
  },
  {
   "attachments": {},
   "cell_type": "markdown",
   "metadata": {},
   "source": [
    "Como hemos mencionado antes, podemos aplicar, si así lo deseamos, una transformación de PCA a los vectores."
   ]
  },
  {
   "cell_type": "code",
   "execution_count": 103,
   "metadata": {},
   "outputs": [],
   "source": [
    "#Aplico PCA a los vectores si así se desea\n",
    "vec_train,vec_test = ex1.transforma_PCA(vec_train,vec_test,15)"
   ]
  },
  {
   "attachments": {},
   "cell_type": "markdown",
   "metadata": {},
   "source": [
    "# Paso 3: Entrenamiento de modelos y predicción\n",
    "Finalmente, una vez obtenidos los vectores característicos de todas las imágenes, probaremos a entrenar diversos modelos disponibles en la librería scikit para, dado un nuevo vector de características, tratar de predecir a qué clase pertenece, si perros o gatos."
   ]
  },
  {
   "attachments": {},
   "cell_type": "markdown",
   "metadata": {},
   "source": [
    "## Modelo 1: Regresión Lineal\n",
    "Una primera aproximación para la predicción puede ser usando una regresión lineal. Lo que hacemos es predecir la \"tendencia\" de los vectores. En ese caso, pueden tender hacia 1 o hacia 0. En realidad, una regresión lineal no es un modelo correcto para este tipo de problema, que salta a la vista que se trata de uno de clasificación. No obstante, se empieza por aquí para comprobar el efecto de un modelo \"simple y rápido\" sobre nuestras variables. "
   ]
  },
  {
   "cell_type": "code",
   "execution_count": 6,
   "metadata": {},
   "outputs": [
    {
     "name": "stdout",
     "output_type": "stream",
     "text": [
      "Los resultados sobre el conjunto de test (calculados con el coeficiente de determinación) son:\n",
      "0.3901249867647356\n",
      "Usando regresión lineal se ha obtenido un accuracy del 85.0% \n",
      "Las imágenes falladas en la predicción son:[1, 5, 8, 10, 11, 16]\n"
     ]
    }
   ],
   "source": [
    "##REGRESIÓN LINEAL DE N VARIABLES\n",
    "\n",
    "#Se importa de la libreria scikit-learn de python (sklearn) el paquete correspondiente a la regresión lineal\n",
    "from sklearn.linear_model import LinearRegression\n",
    "from sklearn.metrics import r2_score\n",
    "# Genera el diccionario param_grid con los valores indicados\n",
    "parameter_space = {\n",
    "    'fit_intercept': [True,False],\n",
    "    'copy_X': [True,False],\n",
    "    'n_jobs': [-1, 1, 10],\n",
    "    'positive': [True, False],\n",
    "}\n",
    "# Genera el objeto ShuffleSplit para generar un único particionado fijo, con 20% de datos de validación y \n",
    "# random_state = 0\n",
    "ss = ShuffleSplit(n_splits=1,test_size=0.2,random_state=0)\n",
    "# Haz la llamada a la función GridSearchCV con un clasificador SVC y el diccionario de parámetros definido\n",
    "# Para acelerar algo el entrenamiento, emplea también el parámetro n_jobs=-1, que hará que se aproveche mejor el\n",
    "# procesador de tu equipo.\n",
    "regr = LinearRegression()\n",
    "clasificadores = GridSearchCV(regr,parameter_space,cv=ss)\n",
    "# Entrena el modelo interno de GridSearchCV, y después obten los mejores valores de C y gamma en C_best y gamma_best\n",
    "clasificadores = clasificadores.fit(vec_train,y_train)\n",
    "accTrainBest = clasificadores.best_estimator_\n",
    "# Calculo los resultados sobre el conjunto test\n",
    "y_true, y_pred = y_test , accTrainBest.predict(vec_test)\n",
    "print('Los resultados sobre el conjunto de test (calculados con el coeficiente de determinación) son:')\n",
    "print(r2_score(y_true, y_pred))\n",
    "aciertos = 0\n",
    "fallados = []\n",
    "for i in range(len(X_test)):\n",
    "    if np.round(y_pred[i]) == y_test[i][0]:\n",
    "        aciertos += 1\n",
    "    else:\n",
    "        fallados.append(i)\n",
    "\n",
    "print('Usando regresión lineal se ha obtenido un accuracy del {}% '.format((aciertos/len(X_test))*100))\n",
    "print('Las imágenes falladas en la predicción son:{}'.format(fallados))\n"
   ]
  },
  {
   "attachments": {},
   "cell_type": "markdown",
   "metadata": {},
   "source": [
    "##### Resultados obtenidos con regresión lineal:\n",
    "Extrac1:\n",
    "- Versión estándar ~ 85% de accuracy.\n",
    "- Versión uniforme ~ 85% de accuracy.\n",
    "- Versión color 1 ~ 80% de accuracy.\n",
    "- Versión PCA ~ 75% de accuracy (uniforme).\n",
    "\n",
    "Extrac2:\n",
    "- Versión estándar ~ 82.5% de accuracy.\n",
    "- Versión a color ~ 80% de accuracy.\n",
    "- Versión regularizada ~ 82.5% de accuracy."
   ]
  },
  {
   "attachments": {},
   "cell_type": "markdown",
   "metadata": {},
   "source": [
    "## Modelo 2: Regresión Logística\n",
    "En segundo lugar, usaremos el modelo que, al menos en apariencia, es el más adecuado para nuestro problema, la regresión logística o clasificación. En nuetro caso, tenemos dos clases distintas, 0 y 1 (gatos y perros)."
   ]
  },
  {
   "cell_type": "code",
   "execution_count": 7,
   "metadata": {},
   "outputs": [
    {
     "name": "stdout",
     "output_type": "stream",
     "text": [
      "Results on the test set:\n",
      "              precision    recall  f1-score   support\n",
      "\n",
      "         0.0       1.00      0.70      0.82        20\n",
      "         1.0       0.77      1.00      0.87        20\n",
      "\n",
      "    accuracy                           0.85        40\n",
      "   macro avg       0.88      0.85      0.85        40\n",
      "weighted avg       0.88      0.85      0.85        40\n",
      "\n",
      "Las imágenes falladas en la predicción son: [1, 5, 8, 10, 11, 14]\n"
     ]
    },
    {
     "data": {
      "text/plain": [
       "<sklearn.metrics._plot.confusion_matrix.ConfusionMatrixDisplay at 0x1593bcb1be0>"
      ]
     },
     "execution_count": 7,
     "metadata": {},
     "output_type": "execute_result"
    },
    {
     "data": {
      "image/png": "[encoded data removed]",
      "text/plain": [
       "<Figure size 640x480 with 2 Axes>"
      ]
     },
     "metadata": {},
     "output_type": "display_data"
    }
   ],
   "source": [
    "# Se importa de la libreria scikit-learn de python (sklearn) el paquete correspondiente a la regresión logística\n",
    "from sklearn.linear_model import LogisticRegression\n",
    "# Genera el diccionario param_grid con los valores indicados\n",
    "parameter_space = {\n",
    "    'C': [1/0.1e-100,1,1/100],\n",
    "    'solver' : ['newton-cg', 'lbfgs', 'sag']\n",
    "}\n",
    "# Genera el objeto ShuffleSplit para generar un único particionado fijo, con 20% de datos de validación y \n",
    "# random_state = 0\n",
    "ss = ShuffleSplit(n_splits=1,test_size=0.2,random_state=0)\n",
    "# Haz la llamada a la función GridSearchCV con un clasificador SVC y el diccionario de parámetros definido\n",
    "# Para acelerar algo el entrenamiento, emplea también el parámetro n_jobs=-1, que hará que se aproveche mejor el\n",
    "# procesador de tu equipo.\n",
    "LogReg = LogisticRegression(penalty='l2',max_iter=400)\n",
    "clasificadores = GridSearchCV(LogReg,parameter_space,cv=ss,n_jobs=-1)\n",
    "# Entrena el modelo interno de GridSearchCV, y después obten los mejores valores de C y gamma en C_best y gamma_best\n",
    "clasificadores = clasificadores.fit(vec_train,y_train.ravel())\n",
    "accTrainBest = clasificadores.best_estimator_\n",
    "# Calculo los resultados sobre el conjunto test\n",
    "y_true, y_pred = y_test , accTrainBest.predict(vec_test)\n",
    "print('Results on the test set:')\n",
    "print(classification_report(y_true, y_pred))\n",
    "#Miro cuales son las imágenes falladas por la predicción\n",
    "fallados = []\n",
    "for i in range(len(X_test)):\n",
    "    if np.round(y_pred[i]) != y_test[i][0]:\n",
    "        fallados.append(i)\n",
    "\n",
    "print('Las imágenes falladas en la predicción son: {}'.format(fallados))\n",
    "#Muestro la matriz de confusión\n",
    "class_names = ['Gatos', 'Perros']\n",
    "cm = confusion_matrix(y_true, y_pred, labels=[0,1])\n",
    "disp = ConfusionMatrixDisplay(confusion_matrix=cm,display_labels=class_names)\n",
    "disp.plot()"
   ]
  },
  {
   "attachments": {},
   "cell_type": "markdown",
   "metadata": {},
   "source": [
    "##### Resultados obtenidos con regresión logística:\n",
    "Extrac1:\n",
    "- Versión estándar ~ 82.5% de accuracy.\n",
    "- Versión uniforme ~ 85% de accuracy.\n",
    "- Versión color 1 ~ 80% de accuracy.\n",
    "- Versión PCA ~ 70% de accuracy (uniforme).\n",
    "\n",
    "Extrac2:\n",
    "- Versión estándar ~ 82.5% de accuracy.\n",
    "- Versión a color ~ 80% de accuracy,\n",
    "- Versión regularizada ~ 82.5% de accuracy."
   ]
  },
  {
   "attachments": {},
   "cell_type": "markdown",
   "metadata": {},
   "source": [
    "## Modelo 3: Naive Bayes\n",
    "Optaremos ahora por un modelo distinto, uno probabilista."
   ]
  },
  {
   "cell_type": "code",
   "execution_count": 9,
   "metadata": {},
   "outputs": [
    {
     "name": "stdout",
     "output_type": "stream",
     "text": [
      "Precisión en test: 0.8\n",
      "\n",
      "Las imágenes falladas en la predicción son: [1, 6, 8, 10, 11, 18, 21, 26]\n"
     ]
    },
    {
     "data": {
      "image/png": "[encoded data removed]",
      "text/plain": [
       "<Figure size 640x480 with 2 Axes>"
      ]
     },
     "metadata": {},
     "output_type": "display_data"
    }
   ],
   "source": [
    "from sklearn.naive_bayes import GaussianNB\n",
    "from sklearn import metrics\n",
    "from sklearn.metrics import confusion_matrix, ConfusionMatrixDisplay\n",
    "\n",
    "nb = GaussianNB()\n",
    "\n",
    "# Entrenamos el clasificador NB\n",
    "nb = nb.fit(vec_train,y_train.ravel())\n",
    "# Obtenemos las salidas para las instancias de train utilizando predict\n",
    "salTrain = nb.predict(vec_train)\n",
    "# Obtenemos la precisión en train mediante metrics.accuracy_score (guardar en accTrain)\n",
    "accTrain = metrics.accuracy_score(salTrain,y_train)\n",
    "# Obtenemos las salidas para test mediante predict\n",
    "salTest = nb.predict(vec_test)\n",
    "# Obtenemos la precisión en test mediante metrics.accuracy_score (guardar en accTest)\n",
    "accTest = metrics.accuracy_score(salTest,y_test)\n",
    "\n",
    "# Imprimimos los resultados obtenidos\n",
    "print(\"Precisión en test: {}\\n\".format(accTest))\n",
    "\n",
    "y_true, y_pred = y_test , salTest\n",
    "class_names = ['Gatos', 'Perros']\n",
    "cm = confusion_matrix(y_true, y_pred, labels=[0,1])\n",
    "disp = ConfusionMatrixDisplay(confusion_matrix=cm,display_labels=class_names)\n",
    "disp.plot()\n",
    "#Miro cuales son las imágenes falladas por la predicción\n",
    "fallados = []\n",
    "for i in range(len(X_test)):\n",
    "    if np.round(y_pred[i]) != y_test[i][0]:\n",
    "        fallados.append(i)\n",
    "\n",
    "print('Las imágenes falladas en la predicción son: {}'.format(fallados))"
   ]
  },
  {
   "attachments": {},
   "cell_type": "markdown",
   "metadata": {},
   "source": [
    "##### Resultados obtenidos con Naive Bayes:\n",
    "Extrac1:\n",
    "- Versión uniforme ~ 80% de accuracy.\n",
    "\n",
    "Extrac2:\n",
    "- Versión regularizada ~ 75% de accuracy.\n"
   ]
  },
  {
   "attachments": {},
   "cell_type": "markdown",
   "metadata": {},
   "source": [
    "## Modelo 4: Red Neuronal\n",
    "¿Y si probamos a usar perceptrones para predecir la salida de nuestro algoritmo? Esta es la idea de la red neuronal, que une varios de estos para obtener una respuesta a un problema complejo. Veamos cómo."
   ]
  },
  {
   "cell_type": "code",
   "execution_count": 10,
   "metadata": {},
   "outputs": [
    {
     "name": "stdout",
     "output_type": "stream",
     "text": [
      "El mejor clasificador tiene los parámetros: MLPClassifier(activation='identity', alpha=0.05, hidden_layer_sizes=(2, 20, 2),\n",
      "              learning_rate='adaptive', max_iter=1000, solver='lbfgs')\n",
      "El porcentaje de acierto es de un 87.5%\n"
     ]
    },
    {
     "data": {
      "text/plain": [
       "<sklearn.metrics._plot.confusion_matrix.ConfusionMatrixDisplay at 0x15948280640>"
      ]
     },
     "execution_count": 10,
     "metadata": {},
     "output_type": "execute_result"
    },
    {
     "data": {
      "image/png": "[encoded data removed]",
      "text/plain": [
       "<Figure size 640x480 with 2 Axes>"
      ]
     },
     "metadata": {},
     "output_type": "display_data"
    }
   ],
   "source": [
    "from sklearn.neural_network import MLPClassifier\n",
    "from sklearn.model_selection import ShuffleSplit\n",
    "from sklearn.model_selection import GridSearchCV\n",
    "\n",
    "# Genera el diccionario param_grid con los valores indicados\n",
    "parameter_space = {\n",
    "    'hidden_layer_sizes': [(2, 20, 2), (5, 15, 2)],\n",
    "    'solver': ['sgd', 'adam', 'lbfgs'],\n",
    "    'alpha': [0.05, 0.1, 0.15],\n",
    "    'learning_rate': ['constant','adaptive'],\n",
    "}\n",
    "\n",
    "# Genera el objeto ShuffleSplit para generar un único particionado fijo, con 20% de datos de validación y \n",
    "# random_state = 0\n",
    "ss = ShuffleSplit(n_splits=1,test_size=0.2,random_state=0)\n",
    "\n",
    "# Haz la llamada a la función GridSearchCV con un clasificador SVC y el diccionario de parámetros definido\n",
    "# Para acelerar algo el entrenamiento, emplea también el parámetro n_jobs=-1, que hará que se aproveche mejor el\n",
    "# procesador de tu equipo.\n",
    "mlp = MLPClassifier(activation='identity', max_iter = 1000)\n",
    "clasificadores = GridSearchCV(mlp,parameter_space,cv=ss,n_jobs=-1)\n",
    "\n",
    "# Entrena el modelo interno de GridSearchCV, y después obten los mejores valores de C y gamma en C_best y gamma_best\n",
    "clasificadores = clasificadores.fit(vec_train,y_train.ravel())\n",
    "mejorClasificador = clasificadores.best_estimator_\n",
    "print('El mejor clasificador tiene los parámetros: {}'.format(mejorClasificador))\n",
    "\n",
    "y_true, y_pred = y_test , mejorClasificador.predict(vec_test)\n",
    "print('El porcentaje de acierto es de un {}%'.format(metrics.accuracy_score(y_true, y_pred)*100))\n",
    "\n",
    "class_names = ['Gatos', 'Perros']\n",
    "cm = confusion_matrix(y_true, y_pred, labels=[0,1])\n",
    "disp = ConfusionMatrixDisplay(confusion_matrix=cm,display_labels=class_names)\n",
    "disp.plot()"
   ]
  },
  {
   "attachments": {},
   "cell_type": "markdown",
   "metadata": {},
   "source": [
    "##### Resultados obtenidos con Red neuronal:\n",
    "Extrac1:\n",
    "- Versión uniforme ~ 87.5% de accuracy.\n",
    "\n",
    "Extrac2:\n",
    "- Versión regularizada ~ 87.5% de accuracy."
   ]
  },
  {
   "attachments": {},
   "cell_type": "markdown",
   "metadata": {},
   "source": [
    "## Modelo 5: SVMs\n",
    "Seguimos con otro modelo de clasificación. En este caso, los SVMs (support vector machines). Este clasificador vuelve a ser uno ideal para nuestro problema, de clasificación con dos clases. No obstante, ya hemos visto en la regresión logística que nuestros datos pueden no ser muy fácilmente separables linealmente."
   ]
  },
  {
   "cell_type": "code",
   "execution_count": 11,
   "metadata": {},
   "outputs": [
    {
     "name": "stdout",
     "output_type": "stream",
     "text": [
      "El mejor clasificador tiene los parámetros: SVC(C=0.01, gamma=0.001, kernel='poly')\n",
      "El porcentaje de acierto es de un 82.5%\n",
      "Las imágenes falladas en la predicción son: [1, 6, 8, 10, 11, 14, 18]\n"
     ]
    },
    {
     "data": {
      "image/png": "[encoded data removed]",
      "text/plain": [
       "<Figure size 640x480 with 2 Axes>"
      ]
     },
     "metadata": {},
     "output_type": "display_data"
    }
   ],
   "source": [
    "from sklearn.model_selection import ShuffleSplit\n",
    "from sklearn.model_selection import GridSearchCV\n",
    "from sklearn import svm\n",
    "\n",
    "# Genera el diccionario param_grid con los valores indicados\n",
    "parameter_space = {\n",
    "    'C': [0.01, 0.1, 1, 5], \n",
    "    'kernel': ['linear', 'poly', 'sigmoid'],\n",
    "    # 'kernel': ['linear', 'poly', 'rbf', 'sigmoid'],\n",
    "    'gamma': [0.001, 0.01, 0.5],\n",
    "    # 'decision_function_shape': ['ovo', 'ovr']\n",
    "}\n",
    "    \n",
    "# Genera el objeto ShuffleSplit para generar un único particionado fijo, con 20% de datos de validación y \n",
    "# random_state = 0\n",
    "ss = ShuffleSplit(n_splits=1,test_size=0.2,random_state=0)\n",
    "\n",
    "# Haz la llamada a la función GridSearchCV con un clasificador SVC y el diccionario de parámetros definido\n",
    "# Para acelerar algo el entrenamiento, emplea también el parámetro n_jobs=-1, que hará que se aproveche mejor el\n",
    "# procesador de tu equipo.\n",
    "svc = svm.SVC(max_iter=-1)\n",
    "clasificadores = GridSearchCV(svc,parameter_space,cv=ss,n_jobs=-1)\n",
    "\n",
    "# Entrena el modelo interno de GridSearchCV, y después obten los mejores valores de C y gamma en C_best y gamma_best\n",
    "clasificadores = clasificadores.fit(vec_train,y_train.ravel())\n",
    "mejorClasificador = clasificadores.best_estimator_\n",
    "print('El mejor clasificador tiene los parámetros: {}'.format(mejorClasificador))\n",
    "\n",
    "y_true, y_pred = y_test , mejorClasificador.predict(vec_test)\n",
    "print('El porcentaje de acierto es de un {}%'.format(metrics.accuracy_score(y_true, y_pred)*100))\n",
    "\n",
    "class_names = ['Gatos', 'Perros']\n",
    "cm = confusion_matrix(y_true, y_pred, labels=[0,1])\n",
    "disp = ConfusionMatrixDisplay(confusion_matrix=cm,display_labels=class_names)\n",
    "disp.plot()\n",
    "#Miro cuales son las imágenes falladas por la predicción\n",
    "fallados = []\n",
    "for i in range(len(X_test)):\n",
    "    if np.round(y_pred[i]) != y_test[i][0]:\n",
    "        fallados.append(i)\n",
    "\n",
    "print('Las imágenes falladas en la predicción son: {}'.format(fallados))"
   ]
  },
  {
   "attachments": {},
   "cell_type": "markdown",
   "metadata": {},
   "source": [
    "##### Resultados obtenidos con SVM:\n",
    "Extrac1:\n",
    "- Versión uniforme ~ 82.5% de accuracy.\n",
    "\n",
    "Extrac2:\n",
    "- Versión regularizada ~ 82.5% de accuracy.\n"
   ]
  },
  {
   "attachments": {},
   "cell_type": "markdown",
   "metadata": {},
   "source": [
    "## Modelo 6: Ensembles\n",
    "Hasta ahora, nuestros modelos se han basado en un único clasificador, ¿qué ocurre si en su lugar usamos varios? Esto es a lo que pretenden responder los ensembles. En esta parte, entrenaremos varios modelos distintos de ensemble para tratar de predecir lo mejor posible."
   ]
  },
  {
   "attachments": {},
   "cell_type": "markdown",
   "metadata": {},
   "source": [
    "### Ensemble 1: Adaboost con decision stumps\n",
    "En primer lugar, usaremos un adaboost (o boosting) para encontrar el mejor modelo. Este adaboost lo haremos usando árboles de un solo nodo (decision stumps). Sin embargo, a la hora de realiar el boosting en importante tener en cuenta el número de clasificadores que queremos utilizar. Como siempre, el problema se reduce a que usando pocos no nos ajustamos y si usamos demasiado estaremos sobreentrenando. Para encontrar el número óptimo, iteraremos sobre una cantidad finita de estos, tal y como se muestra en el código de más abajo. Téngase en cuenta que este \"número ideal\" será distinto para cada una de las extracciones de características que hemos implementado."
   ]
  },
  {
   "cell_type": "code",
   "execution_count": 12,
   "metadata": {},
   "outputs": [
    {
     "name": "stdout",
     "output_type": "stream",
     "text": [
      "Results on the test set:\n",
      "              precision    recall  f1-score   support\n",
      "\n",
      "         0.0       1.00      0.85      0.92        20\n",
      "         1.0       0.87      1.00      0.93        20\n",
      "\n",
      "    accuracy                           0.93        40\n",
      "   macro avg       0.93      0.93      0.92        40\n",
      "weighted avg       0.93      0.93      0.92        40\n",
      "\n",
      "Las imágenes falladas en la predicción son: [8, 11, 18]\n"
     ]
    },
    {
     "data": {
      "image/png": "[encoded data removed]",
      "text/plain": [
       "<Figure size 640x480 with 2 Axes>"
      ]
     },
     "metadata": {},
     "output_type": "display_data"
    }
   ],
   "source": [
    "# Adaboos con decision stumps\n",
    "from sklearn.ensemble import AdaBoostClassifier\n",
    "from sklearn.tree import DecisionTreeClassifier\n",
    "# Genera el diccionario param_grid con los valores indicados\n",
    "parameter_space = {\n",
    "    'n_estimators': [1,2,3,4,5,6,7,8,9,10,11,12,13,14,15,16,17,18,19,20,21,22,23,24,25,26,27,28,29,30],\n",
    "}\n",
    "# Genera el objeto ShuffleSplit para generar un único particionado fijo, con 20% de datos de validación y \n",
    "# random_state = 0\n",
    "ss = ShuffleSplit(n_splits=1,test_size=0.2,random_state=0)\n",
    "# Llamada al constructor del clasificador AdaBoost\n",
    "arbol = DecisionTreeClassifier(criterion='entropy', max_depth=1)\n",
    "adaboost = AdaBoostClassifier(base_estimator=arbol, random_state=12)\n",
    "# Haz la llamada a la función GridSearchCV con un clasificador SVC y el diccionario de parámetros definido\n",
    "# Para acelerar algo el entrenamiento, emplea también el parámetro n_jobs=-1, que hará que se aproveche mejor el\n",
    "# procesador de tu equipo.\n",
    "clasificadores = GridSearchCV(adaboost,parameter_space,cv=ss,n_jobs=-1)\n",
    "# Entrena el modelo interno de GridSearchCV, y después obten los mejores valores de C y gamma en C_best y gamma_best\n",
    "clasificadores = clasificadores.fit(vec_train,y_train.ravel())\n",
    "accTrainBest = clasificadores.best_estimator_\n",
    "# Calculo los resultados sobre el conjunto test\n",
    "y_true, y_pred = y_test , accTrainBest.predict(vec_test)\n",
    "print('Results on the test set:')\n",
    "print(classification_report(y_true, y_pred))\n",
    "#Muestro la matriz de confusión\n",
    "class_names = np.unique(y_test)\n",
    "cm = confusion_matrix(y_true, y_pred, labels=class_names)\n",
    "disp = ConfusionMatrixDisplay(confusion_matrix=cm,display_labels=class_names)\n",
    "disp.plot()\n",
    "#Miro cuales son las imágenes falladas por la predicción\n",
    "fallados = []\n",
    "for i in range(len(X_test)):\n",
    "    if np.round(y_pred[i]) != y_test[i][0]:\n",
    "        fallados.append(i)\n",
    "\n",
    "print('Las imágenes falladas en la predicción son: {}'.format(fallados))\n"
   ]
  },
  {
   "attachments": {},
   "cell_type": "markdown",
   "metadata": {},
   "source": [
    "##### Resultados obtenidos:\n",
    "Extrac1:\n",
    "- Versión uniforme ~ 93% de accuracy.\n",
    "\n",
    "Extrac2:\n",
    "- Versión regularizada ~ 78% de accuracy."
   ]
  },
  {
   "attachments": {},
   "cell_type": "markdown",
   "metadata": {},
   "source": [
    "### Ensemble 2: Bagging con decision stumps\n",
    "Ahora emplearemos bagging para hacer la predicción. El modelo base vuelve a ser un decision stump. De nuevo, el resultado varía mucho en función de cual sea el numero de clasificadores, así que volveremos a iterar sobre unos cuantos para encontrar el óptimo."
   ]
  },
  {
   "cell_type": "code",
   "execution_count": 13,
   "metadata": {},
   "outputs": [
    {
     "name": "stdout",
     "output_type": "stream",
     "text": [
      "Results on the test set:\n",
      "              precision    recall  f1-score   support\n",
      "\n",
      "         0.0       0.69      0.55      0.61        20\n",
      "         1.0       0.62      0.75      0.68        20\n",
      "\n",
      "    accuracy                           0.65        40\n",
      "   macro avg       0.66      0.65      0.65        40\n",
      "weighted avg       0.66      0.65      0.65        40\n",
      "\n"
     ]
    },
    {
     "data": {
      "text/plain": [
       "<sklearn.metrics._plot.confusion_matrix.ConfusionMatrixDisplay at 0x159485beee0>"
      ]
     },
     "execution_count": 13,
     "metadata": {},
     "output_type": "execute_result"
    },
    {
     "data": {
      "image/png": "[encoded data removed]",
      "text/plain": [
       "<Figure size 640x480 with 2 Axes>"
      ]
     },
     "metadata": {},
     "output_type": "display_data"
    }
   ],
   "source": [
    "# Adaboos con decision stumps\n",
    "from sklearn.ensemble import AdaBoostClassifier\n",
    "from sklearn.ensemble import BaggingClassifier\n",
    "# Genera el diccionario param_grid con los valores indicados\n",
    "parameter_space = {\n",
    "    'n_estimators': [1,2,3,4,5,6,7,8,9,10,11,12,13,14,15,16,17,18,19,20,21,22,23,24,25,26,27,28,29,30],\n",
    "}\n",
    "# Genera el objeto ShuffleSplit para generar un único particionado fijo, con 20% de datos de validación y \n",
    "# random_state = 0\n",
    "ss = ShuffleSplit(n_splits=1,test_size=0.2,random_state=0)\n",
    "# Llamada al constructor del clasificador AdaBoost\n",
    "arbol = DecisionTreeClassifier(criterion='entropy', max_depth=1)\n",
    "bagging = BaggingClassifier(arbol, random_state=12)\n",
    "# Haz la llamada a la función GridSearchCV con un clasificador SVC y el diccionario de parámetros definido\n",
    "# Para acelerar algo el entrenamiento, emplea también el parámetro n_jobs=-1, que hará que se aproveche mejor el\n",
    "# procesador de tu equipo.\n",
    "clasificadores = GridSearchCV(bagging,parameter_space,cv=ss,n_jobs=-1)\n",
    "# Entrena el modelo interno de GridSearchCV, y después obten los mejores valores de C y gamma en C_best y gamma_best\n",
    "clasificadores = clasificadores.fit(vec_train,y_train.ravel())\n",
    "accTrainBest = clasificadores.best_estimator_\n",
    "# Calculo los resultados sobre el conjunto test\n",
    "y_true, y_pred = y_test , accTrainBest.predict(vec_test)\n",
    "print('Results on the test set:')\n",
    "print(classification_report(y_true, y_pred))\n",
    "#Muestro la matriz de confusión\n",
    "class_names = np.unique(y_test)\n",
    "cm = confusion_matrix(y_true, y_pred, labels=class_names)\n",
    "disp = ConfusionMatrixDisplay(confusion_matrix=cm,display_labels=class_names)\n",
    "disp.plot()"
   ]
  },
  {
   "attachments": {},
   "cell_type": "markdown",
   "metadata": {},
   "source": [
    "##### Resultados obtenidos:\n",
    "Extrac1:\n",
    "- Versión uniforme ~ 65% de accuracy.\n",
    "\n",
    "Extrac2:\n",
    "- Versión regularizada ~ 78%."
   ]
  },
  {
   "attachments": {},
   "cell_type": "markdown",
   "metadata": {},
   "source": [
    "### One vs All\n",
    "Por último, vamos a implementar el modelo de One vs All con un support vector machine como clasificador base. Dada la simpleza de este modelo, vamos a probar a analizarlo sobre todos los modelos de creación de vectores propios de nuevo."
   ]
  },
  {
   "cell_type": "code",
   "execution_count": 14,
   "metadata": {},
   "outputs": [
    {
     "name": "stdout",
     "output_type": "stream",
     "text": [
      "Usando OVA, hemos predicho correctamente el 80.0% de las imágenes\n"
     ]
    }
   ],
   "source": [
    "# Se importan las clase para OVA y para SVM\n",
    "from sklearn.multiclass import OneVsRestClassifier\n",
    "from sklearn.svm import SVC\n",
    "\n",
    "# Se llama al constructor de OVA utilizando SVM como clasificador base\n",
    "OVA = OneVsRestClassifier(estimator=SVC())\n",
    "# Se entrena el modelo OVA\n",
    "OVA.fit(vec_train,y_train)\n",
    "# Calculo el porcentaje de acierto\n",
    "acc = round(100*OVA.score(vec_test,y_test),2)\n",
    "print('Usando OVA, hemos predicho correctamente el {}% de las imágenes'.format(acc))"
   ]
  },
  {
   "attachments": {},
   "cell_type": "markdown",
   "metadata": {},
   "source": [
    "##### Resultados obtenidos:\n",
    "Extrac1:\n",
    "- Versión estándar ~ 77.5% de accuracy.\n",
    "- Versión uniforme ~ 80% de accuracy.\n",
    "- Versión PCA ~ 75% de accuracy (uniforme).\n",
    "\n",
    "Extrac2:\n",
    "- Versión estándar ~ 82.5% de accuracy.\n",
    "- Versión regularizada ~ 80% de accuracy.\n"
   ]
  },
  {
   "attachments": {},
   "cell_type": "markdown",
   "metadata": {},
   "source": [
    "## Modelo 7: Kmeans\n",
    "El último modelo que vamos a implementar es Kmeans. Nuevamente, se trata de un modelo ideal para nuestro problema, pues sabemos que estos deben ser separables en clases y además conocemos previamente el número de clústeres que necesitamos (solamente 2), con lo que nos ahorramos mucho trabajo de optimización."
   ]
  },
  {
   "cell_type": "code",
   "execution_count": 19,
   "metadata": {},
   "outputs": [
    {
     "name": "stdout",
     "output_type": "stream",
     "text": [
      "Utilizando el algoritmo de Kmeans, se ha obtenido un 57.49999999999999% de precisión.\n"
     ]
    }
   ],
   "source": [
    "from sklearn.cluster import KMeans\n",
    "# Se llama al constructor de kmeans\n",
    "kmeans = KMeans(n_clusters=2).fit(vec_train)\n",
    "clases = kmeans.predict(vec_test)\n",
    "# Calculo el porcentaje de acierto\n",
    "accuracy = np.sum(clases.reshape(-1,1)==y_test)/y_test.size\n",
    "#Trato sobre el resultado por si he calculado los clústeres inversos\n",
    "if accuracy < 0.5:\n",
    "    accuracy = 1-accuracy\n",
    "\n",
    "print('Utilizando el algoritmo de Kmeans, se ha obtenido un {}% de precisión.'.format(accuracy*100))\n"
   ]
  }
 ],
 "metadata": {
  "kernelspec": {
   "display_name": "py38ml",
   "language": "python",
   "name": "python3"
  },
  "language_info": {
   "codemirror_mode": {
    "name": "ipython",
    "version": 3
   },
   "file_extension": ".py",
   "mimetype": "text/x-python",
   "name": "python",
   "nbconvert_exporter": "python",
   "pygments_lexer": "ipython3",
   "version": "3.8.10"
  },
  "orig_nbformat": 4,
  "vscode": {
   "interpreter": {
    "hash": "b442b55aa5357f6abd8b93ac4f52fad5a549bac19132b91c5944e3ddb46e69c2"
   }
  }
 },
 "nbformat": 4,
 "nbformat_minor": 2
}
