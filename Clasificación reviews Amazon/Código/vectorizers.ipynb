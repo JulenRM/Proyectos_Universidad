{
 "cells": [
  {
   "cell_type": "markdown",
   "id": "4d24111b",
   "metadata": {},
   "source": [
    "# Bag of Words"
   ]
  },
  {
   "cell_type": "markdown",
   "id": "43808123",
   "metadata": {},
   "source": [
    "### Métodos\n",
    "\n",
    "Del módulo `sklearn.feature_extraction.text` vamos a analizar que método favorece más al aprendizaje de nuestro clasificador. Tenemos un total de cuatro métodos para el tratamiento de textos, estos son:\n",
    "- `CountVectorizer`\n",
    "- `HashingVectorizer`\n",
    "- `TfidfTransformer`\n",
    "- `TfidfVectorizer`\n",
    "\n",
    "Nosotros realizaremos las pruebas con `CountVectorizer` y `TfidfVectorizer`."
   ]
  },
  {
   "cell_type": "markdown",
   "id": "4e5eb372",
   "metadata": {},
   "source": [
    "### ¿Por qué hemos descartado HashingVectorizer y TfidfTransformer?\n",
    "\n",
    "El motivo principal podría parecer que es porque son alternativas distintas al `Vectorizer` cuyos conceptos no han sido vistos en la teoría, pero no es impedimento para no darles una oportunidad ¿Entonces por qué?\n",
    "\n",
    "`HashingVectorizer` si que tiene algo que ver con la falta de conocimiento sobre el método de `Hashing`, asi que intentaremos darle una oportunidad si andamos bien de tiempo con este proyecto (spoiler: no creo).\n",
    "\n",
    "`TfidfTransformer`ha sido descartado, ya que si es combinado con `CountVectorizer` obtenemos `TfidfVectorizer` por lo que no es de interés."
   ]
  },
  {
   "cell_type": "markdown",
   "id": "772789c7",
   "metadata": {},
   "source": [
    "### Diferencias entre CountVectorizer y TfidfVectorizer\n",
    "\n",
    "`CountVectorizer` convierte un conjunto de textos en una matriz de conteo de tokens, donde cada token (columna) representa una palabra y cada texto una fila de la matriz.\n",
    "\n",
    "`TfidfVectorizer` es una modificación de `CountVectorizer`, donde se realizan dos pasos que lo diferencian:\n",
    "- TF (Term Frequency): Indica la frecuencia de aparición de cada token por texto (fila), donde la suma de frecuencias de cada fila equivale a 1\n",
    "- IDF (Inverse Document Frequency): Se tiene en cuenta la frecuencia de aparición del token en el resto de los textos, cuanto menos aparezca más peso se le dará.\n",
    "\n",
    "TF-IDF: es la combinación de las dos anteriores, dando lugar a `TfidfVectorizer`"
   ]
  },
  {
   "cell_type": "markdown",
   "id": "fcdcd958",
   "metadata": {},
   "source": [
    "### ¿Qué es TF-IDF y para qué sirve?\n",
    "\n",
    "¿Qué es TF-IDF?\n",
    "\n",
    "Es una función que tiene en cuenta una serie de características, pero primero habrá que ver de donde nace.\n",
    "\n",
    "`CountVectorizer()` es una función que se centra únicamente en el nº de apariciones que tiene cada palabra por review. Esto aunque pueda funcionar en algunos casos, no siempre será lo más óptimo, ya que habrá casos en los que la exclusividad de la palabra entre las distintas reviews sea esencial para la solución del problema. Asi nace `TfidfVectorizer()`\n",
    "\n",
    "\n",
    "¿Para qué sirve?\n",
    "\n",
    "Sirve para darle importancia a las palabras que cumplan las siguientes características:\n",
    "- Palabras que aparecen mucho en una review en concreto (al igual que `CountVectorizer`)\n",
    "- Palabras que aparecen poco entre las distintas reviews"
   ]
  },
  {
   "cell_type": "markdown",
   "id": "d7e6b0e1",
   "metadata": {},
   "source": [
    "### ¿Cómo se calcula TF-IDF?\n",
    "\n",
    "Suponiendo que t es la palabra a tratar. La fórmula es calculada mediante el producto de $TF(t)$ con $IDF(t)$, tal que:\n",
    "\n",
    "$\\boldsymbol{TF-IDF(t) = TF(t) * IDF(t)}$\n",
    "\n",
    "Las expresiones de $TF(t)$ e $IDF(t)$ varían según las librerías usadas, pero resultan ser similares"
   ]
  },
  {
   "cell_type": "markdown",
   "id": "939951c9",
   "metadata": {},
   "source": [
    "### 1. Fórmula vista en clase\n",
    "\n",
    "1. Dado una review, calculamos las veces que aparece la palabra t y normalizamos\n",
    "\n",
    "    $\\boldsymbol{TF(t) = \\frac{nº\\space apariciones\\space de\\space t\\space en\\space la\\space review}{nº\\space de\\space palabras\\space que\\space contiene\\space la\\space review}}$\n",
    "    \n",
    "    \n",
    "2. Calculamos cuantas reviews contienen la palabra t\n",
    "\n",
    "    $\\boldsymbol{df(t) = reviews\\space que\\space contienen\\space la\\space palabra\\space t}$\n",
    "    \n",
    "    \n",
    "3. Calculamos el valor ligado a la aparición de la palabra t en las distintas reviews\n",
    "\n",
    "    $\\boldsymbol{IDF(t) = 1+log(\\frac{N}{df(t)})}$\n",
    "    \n",
    "    \n",
    "4. Finalemente, obtenemos el valor de TF-IDF de la palabra t\n",
    "\n",
    "    $\\boldsymbol{TF-IDF(t) = TF(t) * IDF(t)}$"
   ]
  },
  {
   "cell_type": "markdown",
   "id": "c8e325af",
   "metadata": {},
   "source": [
    "### 2. Scikit-learn\n",
    "\n",
    "1. Dado una review, calculamos las veces que aparece la palabra t (no normalizamos)\n",
    "\n",
    "    $\\boldsymbol{TF(t) = nº\\space apariciones\\space de\\space t\\space en\\space la\\space review}$\n",
    "    \n",
    "    \n",
    "2. Calculamos cuantas reviews contienen la palabra t\n",
    "\n",
    "    $\\boldsymbol{df(t) = reviews\\space que\\space contienen\\space la\\space palabra\\space t}$\n",
    "    \n",
    "    \n",
    "3. Calculamos el valor ligado a la aparición de la palabra t en las distintas reviews\n",
    "\n",
    "    - `smooth_idf=True (default)`:\n",
    "\n",
    "    $\\boldsymbol{IDF(t) = 1+log(\\frac{1+N}{1+df(t)})}$\n",
    "\n",
    "    - `smooth_idf=False`:\n",
    "    \n",
    "    $\\boldsymbol{IDF(t) = 1+log(\\frac{N}{df(t)})}$\n",
    "    \n",
    "    \n",
    "4. Obtenemos el valor de TF-IDF de la palabra t\n",
    "\n",
    "    $\\boldsymbol{TF-IDF(t) = TF(t) * IDF(t)}$\n",
    "    \n",
    "    \n",
    "5. Finalmente, normalizamos el resultado\n",
    "\n",
    "    $\\boldsymbol{TF-IDF(t) = \\frac{TF-IDF(t)}{||TF-IDF(t)||_{2}}\\space\\space\\space\\space\\space\\space\\space\\space}$ \n",
    "    donde $\\boldsymbol{\\space||x||_{2} = (\\sum_{i=1}^{n}|x_{i}|^{2})^{\\frac{1}{2}}}$"
   ]
  },
  {
   "cell_type": "markdown",
   "id": "211a799e",
   "metadata": {},
   "source": [
    "He aquí la demostración:"
   ]
  },
  {
   "cell_type": "code",
   "execution_count": 14,
   "id": "06e007c7",
   "metadata": {},
   "outputs": [],
   "source": [
    "import numpy as np\n",
    "from sklearn.feature_extraction.text import CountVectorizer"
   ]
  },
  {
   "cell_type": "code",
   "execution_count": 18,
   "id": "6d355cac",
   "metadata": {},
   "outputs": [
    {
     "name": "stdout",
     "output_type": "stream",
     "text": [
      "[[0.81818021 0.57496187 0.        ]\n",
      " [0.57973867 0.         0.81480247]]\n"
     ]
    }
   ],
   "source": [
    "# Corpus (Conjunto de textos)\n",
    "corpus = [\"pal1 pal1 pal2\", \n",
    "          \"pal1 pal3\"]\n",
    "\n",
    "# Conseguimos el Term Frequency del corpus\n",
    "vectorizer = CountVectorizer()\n",
    "tf = vectorizer.fit_transform(corpus)\n",
    "tf_matrix = tf.toarray()\n",
    "# Obtenemos el número de textos\n",
    "n_rows = tf_matrix.shape[0]\n",
    "# Calculamos el document frequency de cada palabra\n",
    "df = np.sum(tf_matrix > 0, axis=0)\n",
    "# Calculamos el Inverse Document Frequency\n",
    "idf = np.log((1 + n_rows) / (1 + df)) + 1\n",
    "# Obtenemos TF-IDF mediante el producto\n",
    "tfidf_matrix = tf_matrix * idf\n",
    "# Calculamos la norma de cada texto\n",
    "norms = np.linalg.norm(tfidf_matrix, axis=1)\n",
    "# Normalizamos TF-IDF\n",
    "normalized_matrix = tfidf_matrix / norms[:, np.newaxis]\n",
    "\n",
    "# Mostramos la matriz resultante\n",
    "print(normalized_matrix)"
   ]
  },
  {
   "cell_type": "markdown",
   "id": "e9a74e38",
   "metadata": {},
   "source": [
    "Comprobamos que es la misma que la de `scikit-learn`, aun así se pueden comprobar las fórmulas en la página web."
   ]
  },
  {
   "cell_type": "code",
   "execution_count": 16,
   "id": "53c5714a",
   "metadata": {},
   "outputs": [],
   "source": [
    "from sklearn.feature_extraction.text import TfidfVectorizer"
   ]
  },
  {
   "cell_type": "code",
   "execution_count": 19,
   "id": "112c7a55",
   "metadata": {},
   "outputs": [
    {
     "name": "stdout",
     "output_type": "stream",
     "text": [
      "[[0.81818021 0.57496187 0.        ]\n",
      " [0.57973867 0.         0.81480247]]\n"
     ]
    }
   ],
   "source": [
    "# Conseguimos el TF-IDF mediante el objeto que nos ofrece scikit-learn\n",
    "vectorizer = TfidfVectorizer()\n",
    "X = vectorizer.fit_transform(corpus)\n",
    "\n",
    "# Mostramos la matriz resultante\n",
    "print(X.toarray())"
   ]
  },
  {
   "cell_type": "markdown",
   "id": "0782f227",
   "metadata": {},
   "source": [
    "Efectivamente, los resultados coinciden."
   ]
  },
  {
   "cell_type": "markdown",
   "id": "31ad141b",
   "metadata": {},
   "source": [
    "### Histogramas que ayudan a entender los valores obtenidos con TF-IDF\n",
    "\n",
    "Los histogramas que se van a mostrar, van ligados al $\\boldsymbol{TF-IDF(t)}$ de `scikit-learn`\n",
    "\n",
    "¿Qué características afectan los valores obtenidos?\n",
    "\n",
    "- La diferencia del número de apariciones en distintas reviews (Document Frequency) entre palabras (debido a la fórmula $\\boldsymbol{IDF(t)}$)\n",
    "\n",
    "- La diferencia del número de palabras entre reviews (debido a la normalización con `L2-Norm`)"
   ]
  },
  {
   "cell_type": "markdown",
   "id": "7535853f",
   "metadata": {},
   "source": [
    "### 1. Cantidad de reviews a las que pertenece cada palabra\n",
    "\n",
    "El número de reviews que contienen una palabra en concreto (Document Frequency) va ligado a la exclusividad de dicha palabra, es decir, si una palabra aparece en muy pocas reviews, tendrá mayor peso (exclusividad).\n",
    "\n",
    "La fórmula empleada es la denominada $\\boldsymbol{IDF(t) = 1+log(\\frac{1+N}{1+df(t)})}$ cuando `smooth_idf=True`.\n",
    "\n",
    "Observamos que cuanto menor sea $\\boldsymbol{df(t)}$, mayor será $\\boldsymbol{IDF(t)}$, es decir, son inversamente proporcionales."
   ]
  },
  {
   "cell_type": "markdown",
   "id": "84d72f07",
   "metadata": {},
   "source": [
    "Con esta conclusión, creo que es conveniente mostrar gráficamente si existe alguna diferencia entre los $\\boldsymbol{df(t)}$ de las distintas palabras."
   ]
  },
  {
   "cell_type": "code",
   "execution_count": 66,
   "id": "226b1b26",
   "metadata": {},
   "outputs": [],
   "source": [
    "import pandas as pd"
   ]
  },
  {
   "cell_type": "code",
   "execution_count": 67,
   "id": "234c3f18",
   "metadata": {},
   "outputs": [
    {
     "data": {
      "text/html": [
       "<div>\n",
       "<style scoped>\n",
       "    .dataframe tbody tr th:only-of-type {\n",
       "        vertical-align: middle;\n",
       "    }\n",
       "\n",
       "    .dataframe tbody tr th {\n",
       "        vertical-align: top;\n",
       "    }\n",
       "\n",
       "    .dataframe thead th {\n",
       "        text-align: right;\n",
       "    }\n",
       "</style>\n",
       "<table border=\"1\" class=\"dataframe\">\n",
       "  <thead>\n",
       "    <tr style=\"text-align: right;\">\n",
       "      <th></th>\n",
       "      <th>Text</th>\n",
       "      <th>Rating</th>\n",
       "    </tr>\n",
       "  </thead>\n",
       "  <tbody>\n",
       "    <tr>\n",
       "      <th>0</th>\n",
       "      <td>magnetic charger job charge iphone ipad mini c...</td>\n",
       "      <td>4.0 out of 5 stars</td>\n",
       "    </tr>\n",
       "    <tr>\n",
       "      <th>1</th>\n",
       "      <td>hesitant believe would work tell charge time i...</td>\n",
       "      <td>4.0 out of 5 stars</td>\n",
       "    </tr>\n",
       "    <tr>\n",
       "      <th>2</th>\n",
       "      <td>like different size cord cord durable blue lig...</td>\n",
       "      <td>4.0 out of 5 stars</td>\n",
       "    </tr>\n",
       "    <tr>\n",
       "      <th>3</th>\n",
       "      <td>apple device make sure arrow correctly inserte...</td>\n",
       "      <td>4.0 out of 5 stars</td>\n",
       "    </tr>\n",
       "    <tr>\n",
       "      <th>4</th>\n",
       "      <td>far seem like decent cable wish give included ...</td>\n",
       "      <td>4.0 out of 5 stars</td>\n",
       "    </tr>\n",
       "  </tbody>\n",
       "</table>\n",
       "</div>"
      ],
      "text/plain": [
       "                                                Text              Rating\n",
       "0  magnetic charger job charge iphone ipad mini c...  4.0 out of 5 stars\n",
       "1  hesitant believe would work tell charge time i...  4.0 out of 5 stars\n",
       "2  like different size cord cord durable blue lig...  4.0 out of 5 stars\n",
       "3  apple device make sure arrow correctly inserte...  4.0 out of 5 stars\n",
       "4  far seem like decent cable wish give included ...  4.0 out of 5 stars"
      ]
     },
     "execution_count": 67,
     "metadata": {},
     "output_type": "execute_result"
    }
   ],
   "source": [
    "# Leemos los datos almacenados en textosLimpiosLemmatizationConTitulo.csv\n",
    "df = pd.read_csv('textosLimpiosLemmatizationConTitulo.csv', delimiter=',', usecols=['Text','Rating'])\n",
    "# Nos aseguramos de reemplazar los valores perdidos o NaN por ' '\n",
    "df = df.fillna(' ')\n",
    "# Comprobamos que hayamos leído correctamente las reviews\n",
    "df.head()"
   ]
  },
  {
   "cell_type": "code",
   "execution_count": 96,
   "id": "3f839136",
   "metadata": {},
   "outputs": [
    {
     "name": "stdout",
     "output_type": "stream",
     "text": [
      "                 0\n",
      "count  9329.000000\n",
      "mean     15.102155\n",
      "std      79.873471\n",
      "min       1.000000\n",
      "25%       1.000000\n",
      "50%       1.000000\n",
      "75%       5.000000\n",
      "max    2511.000000\n"
     ]
    }
   ],
   "source": [
    "# Creamos un corpus a partir de las reviews\n",
    "corpus = df['Text'].tolist()\n",
    "# Ponemos binary=True de CountVectorizer para realizar el conteo de documentos por palabra\n",
    "vectorizer = CountVectorizer(binary=True)\n",
    "# Convertimos el corpus de palabras a números\n",
    "X = vectorizer.fit_transform(corpus)\n",
    "# Calculamos el número de reviews al que pertenece cada palabra\n",
    "doc_freqs = np.sum(X.toarray(), axis=0)\n",
    "\n",
    "# Estadisticas del conteo de reviews\n",
    "print(pd.DataFrame(doc_freqs).describe())"
   ]
  },
  {
   "cell_type": "markdown",
   "id": "7bd90c66",
   "metadata": {},
   "source": [
    "Observamos que más del 75% de las palabras aparecen en solo 5 reviews o menos, por lo que en general las palabras tienen pesos muy similares en cuanto a exclusividad se refiere. También observamos que hay palabras que aparecen hasta en 2511 reviews, lo cual puede que no sean muy relevantes a la hora de realizar una clasificación.\n",
    "\n",
    "En base a estos datos, podemos ver que umbrales escoger a la hora de asignar valores a `min_df` y `max_df`, son parámetros pertenecientes a las funciones `CountVectorizer()` y `TfidfVectorizer()`. Como se podrá deducir, `min_df` es el número mínimo (cota inferior) de reviews en el que debe de aparecer cada palabra y `max_df` el número máximo (cota superior) de reviews en el que debe de aparecer cada palabra."
   ]
  },
  {
   "cell_type": "code",
   "execution_count": 101,
   "id": "1fee2469",
   "metadata": {},
   "outputs": [],
   "source": [
    "import matplotlib.pyplot as plt"
   ]
  },
  {
   "cell_type": "code",
   "execution_count": 102,
   "id": "57e02ba5",
   "metadata": {},
   "outputs": [
    {
     "data": {
      "image/png": "[encoded data removed]",
      "text/plain": [
       "<Figure size 640x480 with 1 Axes>"
      ]
     },
     "metadata": {},
     "output_type": "display_data"
    }
   ],
   "source": [
    "# Construimos el histograma de los valores obtenidos\n",
    "# (Filtramos las reviews para que sea más comprensible la distribución)\n",
    "plt.hist(doc_freqs[doc_freqs<=50], bins=50)\n",
    "plt.xlabel('Número de reviews a las que pertenece cada palabra')\n",
    "plt.ylabel('Palabras que comparten el mismo nº de document frequencies')\n",
    "plt.title('Histograma de la cantidad de reviews al que pertenece cada palabra')\n",
    "plt.show()"
   ]
  },
  {
   "cell_type": "markdown",
   "id": "b7c1671a",
   "metadata": {},
   "source": [
    "Podemos concluir que `min_df` no ha de ser usado, ya que el mínimo es 1 pero si lo subimos a 2 descartaremos más del 50% de las palabras, haciendo que la matriz se llene de ceros y los resultados no tengan sentido.\n",
    "\n",
    "En cuanto a `max_df` hay más dudas de que valores probar, es por eso que hemos decidido realizar el siguiente método:\n",
    "\n",
    "1. Ordenamos todos los $\\boldsymbol{df(t)}$ de menor a mayor, tal que: $\\boldsymbol{df(t_{1})≤ df(t_{2})≤\\space ...\\space ≤df(t_{n})}$.\n",
    "2. Damos saltos de $\\boldsymbol{k}$ en $\\boldsymbol{k}$ y almacenamos los valores de $\\boldsymbol{df(t_{i})}$ obtenidos en una lista.\n",
    "3. Ploteamos la lista obtenida para averiguar que valor de `max_df` usar mediante la regla del codo."
   ]
  },
  {
   "cell_type": "code",
   "execution_count": 141,
   "id": "de60a732",
   "metadata": {},
   "outputs": [
    {
     "data": {
      "image/png": "[encoded data removed]",
      "text/plain": [
       "<Figure size 1000x400 with 2 Axes>"
      ]
     },
     "metadata": {},
     "output_type": "display_data"
    }
   ],
   "source": [
    "# Ordenamos los document frequencies\n",
    "sorted_doc_freqs = np.sort(doc_freqs)\n",
    "# Obtenemos el valor n (número de palabras)\n",
    "n = len(sorted_doc_freqs)\n",
    "\n",
    "# Definimos X e y\n",
    "X1 = np.arange(0.75, 1.01, 0.05)\n",
    "y1 = np.array([])\n",
    "\n",
    "X2 = np.arange(0.95, 1.0, 0.005)\n",
    "y2 = np.array([])\n",
    "\n",
    "# Damos saltos de 5% en 5% a partir del 75% hasta el 100% de los valores ordenados\n",
    "k = int(n*0.05)\n",
    "for i in range(n-k*5, n+k, k):\n",
    "    y1 = np.append(y1, sorted_doc_freqs[i-1])\n",
    "    \n",
    "# Damos saltos de 0.5% en 0.5% a partir del 95% hasta el 100% de los valores ordenados\n",
    "k = int(n*0.005)\n",
    "for i in range(n-k*10, n+k, k):\n",
    "    y2 = np.append(y2, sorted_doc_freqs[i-1])    \n",
    "\n",
    "# Creamos las gráficas\n",
    "fig, axs = plt.subplots(ncols=2, figsize=(10, 4))\n",
    "\n",
    "# histogramas por clase\n",
    "axs[0].plot(X1, y1)\n",
    "axs[1].plot(X2, y2)\n",
    "\n",
    "# Titulo de cada gráfica\n",
    "axs[0].set_title('k = 5%')\n",
    "axs[1].set_title('k = 0.5%')\n",
    "\n",
    "axs[0].set_xlabel('Cuartil del vector ordenado df(t)')\n",
    "axs[1].set_xlabel('Cuartil del vector ordenado df(t)')\n",
    "axs[0].set_ylabel('Cantidad de reviews al que pertenece')\n",
    "axs[1].set_ylabel('Cantidad de reviews al que pertenece')\n",
    "\n",
    "# Printeo de los histogramas\n",
    "plt.show()"
   ]
  },
  {
   "cell_type": "markdown",
   "id": "03c0756c",
   "metadata": {},
   "source": [
    "Una vez vemos con claridad donde se encuentra ese codo, decidimos probar el algoritmo con `max_df` por debajo del valor que indica la gráfica.\n",
    "\n",
    "Independientemente del resultado, observamos que en general los valores se concentran en un mismo rango de valores, por lo que los outliers como aquel que aparece en 2511 reviews se verá muy devaluado una vez pase por $\\boldsymbol{IDF(t)}$."
   ]
  },
  {
   "cell_type": "markdown",
   "id": "55e18ee2",
   "metadata": {},
   "source": [
    "### 2. Cantidad de palabras por review\n",
    "\n",
    "La normalización de valores puede afectar severamente al peso que pueda tener una palabra, debido a la diferencia de escalas entre reviews.\n",
    "\n",
    "Ejemplo: Realizamos el $\\boldsymbol{TF-IDF(t)}$ de `pal 1` para cada una de las 4 reviews que disponemos, es decir, $\\boldsymbol{TF-IDF(pal\\space 1)_{j}}$ donde $\\boldsymbol{j}$ es la i-ésima review."
   ]
  },
  {
   "cell_type": "code",
   "execution_count": 20,
   "id": "e8e5261c",
   "metadata": {},
   "outputs": [
    {
     "data": {
      "text/html": [
       "<div>\n",
       "<style scoped>\n",
       "    .dataframe tbody tr th:only-of-type {\n",
       "        vertical-align: middle;\n",
       "    }\n",
       "\n",
       "    .dataframe tbody tr th {\n",
       "        vertical-align: top;\n",
       "    }\n",
       "\n",
       "    .dataframe thead th {\n",
       "        text-align: right;\n",
       "    }\n",
       "</style>\n",
       "<table border=\"1\" class=\"dataframe\">\n",
       "  <thead>\n",
       "    <tr style=\"text-align: right;\">\n",
       "      <th></th>\n",
       "      <th>TF-IDF(pal 1)</th>\n",
       "    </tr>\n",
       "  </thead>\n",
       "  <tbody>\n",
       "    <tr>\n",
       "      <th>review 1</th>\n",
       "      <td>1</td>\n",
       "    </tr>\n",
       "    <tr>\n",
       "      <th>review 2</th>\n",
       "      <td>0</td>\n",
       "    </tr>\n",
       "    <tr>\n",
       "      <th>review 3</th>\n",
       "      <td>5</td>\n",
       "    </tr>\n",
       "    <tr>\n",
       "      <th>review 4</th>\n",
       "      <td>2</td>\n",
       "    </tr>\n",
       "  </tbody>\n",
       "</table>\n",
       "</div>"
      ],
      "text/plain": [
       "          TF-IDF(pal 1)\n",
       "review 1              1\n",
       "review 2              0\n",
       "review 3              5\n",
       "review 4              2"
      ]
     },
     "execution_count": 20,
     "metadata": {},
     "output_type": "execute_result"
    }
   ],
   "source": [
    "df = pd.DataFrame({'TF-IDF(pal 1)': [1, 0, 5, 2]})\n",
    "df.index = ['review 1', 'review 2', 'review 3', 'review 4']\n",
    "df"
   ]
  },
  {
   "cell_type": "markdown",
   "id": "0668d2ce",
   "metadata": {},
   "source": [
    "Notamos que proporcionalmente la review 3 es la dominante respecto a las otras.\n",
    "\n",
    "Ahora hallamos la norma de cada review, donde $\\boldsymbol{||review\\space j||_{2} = \\sqrt{\\sum_{i=1}^{n}|pal\\space i|^{2}}}$"
   ]
  },
  {
   "cell_type": "code",
   "execution_count": 21,
   "id": "44e56e3b",
   "metadata": {},
   "outputs": [
    {
     "data": {
      "text/html": [
       "<div>\n",
       "<style scoped>\n",
       "    .dataframe tbody tr th:only-of-type {\n",
       "        vertical-align: middle;\n",
       "    }\n",
       "\n",
       "    .dataframe tbody tr th {\n",
       "        vertical-align: top;\n",
       "    }\n",
       "\n",
       "    .dataframe thead th {\n",
       "        text-align: right;\n",
       "    }\n",
       "</style>\n",
       "<table border=\"1\" class=\"dataframe\">\n",
       "  <thead>\n",
       "    <tr style=\"text-align: right;\">\n",
       "      <th></th>\n",
       "      <th>TF-IDF(pal 1)</th>\n",
       "      <th>L2-Norm</th>\n",
       "    </tr>\n",
       "  </thead>\n",
       "  <tbody>\n",
       "    <tr>\n",
       "      <th>review 1</th>\n",
       "      <td>1</td>\n",
       "      <td>10</td>\n",
       "    </tr>\n",
       "    <tr>\n",
       "      <th>review 2</th>\n",
       "      <td>0</td>\n",
       "      <td>7</td>\n",
       "    </tr>\n",
       "    <tr>\n",
       "      <th>review 3</th>\n",
       "      <td>5</td>\n",
       "      <td>73</td>\n",
       "    </tr>\n",
       "    <tr>\n",
       "      <th>review 4</th>\n",
       "      <td>2</td>\n",
       "      <td>8</td>\n",
       "    </tr>\n",
       "  </tbody>\n",
       "</table>\n",
       "</div>"
      ],
      "text/plain": [
       "          TF-IDF(pal 1)  L2-Norm\n",
       "review 1              1       10\n",
       "review 2              0        7\n",
       "review 3              5       73\n",
       "review 4              2        8"
      ]
     },
     "execution_count": 21,
     "metadata": {},
     "output_type": "execute_result"
    }
   ],
   "source": [
    "df['L2-Norm'] = [10, 7, 73, 8]\n",
    "df"
   ]
  },
  {
   "cell_type": "markdown",
   "id": "646dbdde",
   "metadata": {},
   "source": [
    "Por último, dividimos $\\boldsymbol{TF-IDF(pal\\space 1)_{j}}$ por la norma de cada review, para asi pasar todos los valores a una misma escala"
   ]
  },
  {
   "cell_type": "code",
   "execution_count": 22,
   "id": "99bb7e32",
   "metadata": {},
   "outputs": [
    {
     "data": {
      "text/html": [
       "<div>\n",
       "<style scoped>\n",
       "    .dataframe tbody tr th:only-of-type {\n",
       "        vertical-align: middle;\n",
       "    }\n",
       "\n",
       "    .dataframe tbody tr th {\n",
       "        vertical-align: top;\n",
       "    }\n",
       "\n",
       "    .dataframe thead th {\n",
       "        text-align: right;\n",
       "    }\n",
       "</style>\n",
       "<table border=\"1\" class=\"dataframe\">\n",
       "  <thead>\n",
       "    <tr style=\"text-align: right;\">\n",
       "      <th></th>\n",
       "      <th>TF-IDF(pal 1)</th>\n",
       "      <th>L2-Norm</th>\n",
       "      <th>||TF-IDF(pal 1)||</th>\n",
       "    </tr>\n",
       "  </thead>\n",
       "  <tbody>\n",
       "    <tr>\n",
       "      <th>review 1</th>\n",
       "      <td>1</td>\n",
       "      <td>10</td>\n",
       "      <td>0.100000</td>\n",
       "    </tr>\n",
       "    <tr>\n",
       "      <th>review 2</th>\n",
       "      <td>0</td>\n",
       "      <td>7</td>\n",
       "      <td>0.000000</td>\n",
       "    </tr>\n",
       "    <tr>\n",
       "      <th>review 3</th>\n",
       "      <td>5</td>\n",
       "      <td>73</td>\n",
       "      <td>0.068493</td>\n",
       "    </tr>\n",
       "    <tr>\n",
       "      <th>review 4</th>\n",
       "      <td>2</td>\n",
       "      <td>8</td>\n",
       "      <td>0.250000</td>\n",
       "    </tr>\n",
       "  </tbody>\n",
       "</table>\n",
       "</div>"
      ],
      "text/plain": [
       "          TF-IDF(pal 1)  L2-Norm  ||TF-IDF(pal 1)||\n",
       "review 1              1       10           0.100000\n",
       "review 2              0        7           0.000000\n",
       "review 3              5       73           0.068493\n",
       "review 4              2        8           0.250000"
      ]
     },
     "execution_count": 22,
     "metadata": {},
     "output_type": "execute_result"
    }
   ],
   "source": [
    "df['||TF-IDF(pal 1)||'] = [1/10, 0/7, 5/73, 2/8]\n",
    "df"
   ]
  },
  {
   "cell_type": "markdown",
   "id": "25115302",
   "metadata": {},
   "source": [
    "Esto hace que proporcionalmente, la review 3 ya no sea la dominante.\n",
    "\n",
    "La norma va ligada al número de palabras que contiene una review y las proporciones que tiene cada palabra en dicha review, es decir, el número de veces que aparece esa palabra. Es por eso que me resulta conveniente mostrar gráficamente la variedad de número de palabras entre las distintas reviews."
   ]
  },
  {
   "cell_type": "code",
   "execution_count": 68,
   "id": "8322be91",
   "metadata": {},
   "outputs": [
    {
     "name": "stdout",
     "output_type": "stream",
     "text": [
      "count    9269.000000\n",
      "mean       17.683245\n",
      "std        21.792920\n",
      "min         1.000000\n",
      "25%         6.000000\n",
      "50%        12.000000\n",
      "75%        22.000000\n",
      "max       517.000000\n",
      "Name: Word Count, dtype: float64\n"
     ]
    }
   ],
   "source": [
    "# Obtenemos el número de palabras por review\n",
    "df['Word Count'] = df['Text'].apply(lambda x: len(x.split()))\n",
    "\n",
    "# Estadisticas del conteo de palabras\n",
    "print(df['Word Count'].describe())"
   ]
  },
  {
   "cell_type": "markdown",
   "id": "c17418a2",
   "metadata": {},
   "source": [
    "Más del 75% de las reviews no tienen más que 22 palabras, pero vemos que hay un texto con 517 palabras, \n",
    "esto probablemente significa que cada palabra de dicha review tenga muy poco peso respecto al resto de palabras en otras reviews."
   ]
  },
  {
   "cell_type": "code",
   "execution_count": 85,
   "id": "99bcf087",
   "metadata": {},
   "outputs": [
    {
     "data": {
      "image/png": "[encoded data removed]",
      "text/plain": [
       "<Figure size 640x480 with 1 Axes>"
      ]
     },
     "metadata": {},
     "output_type": "display_data"
    }
   ],
   "source": [
    "# Construimos el histograma de los valores obtenidos\n",
    "plt.hist(df['Word Count'], bins=200)\n",
    "plt.xlabel('Número de palabras por review')\n",
    "plt.ylabel('Reviews que comparten el mismo nº de palabras')\n",
    "plt.title('Histograma del número de palabras')\n",
    "plt.show()"
   ]
  },
  {
   "cell_type": "markdown",
   "id": "c368ecfa",
   "metadata": {},
   "source": [
    "Ahora queremos comprobar si el número de palabras tiene alguna dependencia que la valoración asociada a la review, \n",
    "o si simplemente son independientes"
   ]
  },
  {
   "cell_type": "code",
   "execution_count": 65,
   "id": "794ddd10",
   "metadata": {},
   "outputs": [
    {
     "data": {
      "image/png": "[encoded data removed]",
      "text/plain": [
       "<Figure size 1000x600 with 6 Axes>"
      ]
     },
     "metadata": {},
     "output_type": "display_data"
    }
   ],
   "source": [
    "# Filtramos las reviews, para que las gráficas sean más comprensibles\n",
    "df = df[df['Word Count'] <= 100]\n",
    "\n",
    "# Cambiamos los ratings por enteros\n",
    "text_to_int = {'1.0 out of 5 stars': 1, '2.0 out of 5 stars': 2, '3.0 out of 5 stars': 3,\n",
    "               '4.0 out of 5 stars': 4, '5.0 out of 5 stars': 5}\n",
    "df['Rating'] = df['Rating'].replace(text_to_int)\n",
    "\n",
    "# Creamos las gráficas\n",
    "fig, axs = plt.subplots(nrows=2, ncols=3, figsize=(10, 6))\n",
    "\n",
    "# histogramas por clase\n",
    "axs[0, 0].hist(df['Word Count'][df['Rating']==1], bins=100, color='red')\n",
    "axs[0, 1].hist(df['Word Count'][df['Rating']==2], bins=100, color='orange')\n",
    "axs[0, 2].hist(df['Word Count'][df['Rating']==3], bins=100, color='green')\n",
    "axs[1, 0].hist(df['Word Count'][df['Rating']==4], bins=100, color='blue')\n",
    "axs[1, 1].hist(df['Word Count'][df['Rating']==5], bins=100, color='purple')\n",
    "\n",
    "# histograma que combina los histogramas de cada clase (5 histogramas)\n",
    "axs[1, 2].hist(df['Word Count'][df['Rating']==1], bins=100, color='red', alpha=0.5)\n",
    "axs[1, 2].hist(df['Word Count'][df['Rating']==2], bins=100, color='orange', alpha=0.5)\n",
    "axs[1, 2].hist(df['Word Count'][df['Rating']==3], bins=100, color='green', alpha=0.5)\n",
    "axs[1, 2].hist(df['Word Count'][df['Rating']==4], bins=100, color='blue', alpha=0.5)\n",
    "axs[1, 2].hist(df['Word Count'][df['Rating']==5], bins=100, color='purple', alpha=0.5)\n",
    "\n",
    "# Titulo de cada gráfica\n",
    "axs[0, 0].set_title('Rating = 1')\n",
    "axs[0, 1].set_title('Rating = 2')\n",
    "axs[0, 2].set_title('Rating = 3')\n",
    "axs[1, 0].set_title('Rating = 4')\n",
    "axs[1, 1].set_title('Rating = 5')\n",
    "axs[1, 2].set_title('All Ratings')\n",
    "\n",
    "# Titulo\n",
    "fig.suptitle('Histograma del número de palabras por clase')\n",
    "\n",
    "# Printeo de los histogramas\n",
    "plt.show()"
   ]
  },
  {
   "cell_type": "markdown",
   "id": "adca3b4c",
   "metadata": {},
   "source": [
    "Podemos observar que la cantidad de palabras por review es independiente a la valoración asociada."
   ]
  },
  {
   "cell_type": "markdown",
   "id": "a9cfa06d",
   "metadata": {},
   "source": [
    "### Conclusión"
   ]
  }
 ],
 "metadata": {
  "kernelspec": {
   "display_name": "Python 3 (ipykernel)",
   "language": "python",
   "name": "python3"
  },
  "language_info": {
   "codemirror_mode": {
    "name": "ipython",
    "version": 3
   },
   "file_extension": ".py",
   "mimetype": "text/x-python",
   "name": "python",
   "nbconvert_exporter": "python",
   "pygments_lexer": "ipython3",
   "version": "3.9.16"
  }
 },
 "nbformat": 4,
 "nbformat_minor": 5
}
